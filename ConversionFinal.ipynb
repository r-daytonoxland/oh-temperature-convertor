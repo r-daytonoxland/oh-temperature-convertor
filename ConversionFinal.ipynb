{
 "cells": [
  {
   "cell_type": "raw",
   "id": "eb2c4d0d",
   "metadata": {},
   "source": [
    "\"\"\"\n",
    "Created: 2023-04-28\n",
    "Author: Rowan Alethea Dayton-Oxland\n",
    "Contact: R.A.Dayton-Oxland@soton.ac.uk\n",
    "\n",
    "This script converts a OH*(6-2) temperature between different Einstein coefficients.\n",
    "\n",
    "- Read in the temperature T1\n",
    "- Calculate the line intensity I for each PA(B) using A1\n",
    "- Fit using A2 log(I/A2*2(2J+1))\n",
    "- Extract T2 assuming constant partition function \n",
    "\n",
    "\n",
    "INPUTS\n",
    "---\n",
    "Tin : Input temperature in Kelvin\n",
    "Ain : Original Einstein coefficient source (see Tab)\n",
    "Aout : Desired output Einstein coefficient source (see Tab)\n",
    "\n",
    "\n",
    "TAB\n",
    "---\n",
    "    Einstein A Source            Code\n",
    "    ---------------------------------\n",
    "    Mies 1974                       0\n",
    "    Loo and Groenenboom 2008        1\n",
    "\n",
    "\n",
    "OUTPUTS\n",
    "---\n",
    "Tout : The converted OH temperature for the new Einstein coefficient source\n",
    "\n",
    "\n",
    "VARIABLES\n",
    "---\n",
    "Ain is the original Einstein coefficient\n",
    "Aout is the new Einstein coefficient\n",
    "Tin is the original output temperature\n",
    "J2 is the rotational angular momentum of the excited/upper state\n",
    "Partition is the value of the partition term ln(N/Qr)\n",
    "Fprime is the rotational term in the upper state\n",
    "\n",
    "PHYSICAL CONSTANTS\n",
    "---\n",
    "h is the Planck constant\n",
    "c is the speed of light in a vaccuum\n",
    "k is the Boltzmann constant\n",
    "\n",
    "UPDATES\n",
    "---\n",
    "\n",
    "\"\"\""
   ]
  },
  {
   "cell_type": "markdown",
   "id": "218c24e6",
   "metadata": {},
   "source": [
    "# Initialisation and Data Read"
   ]
  },
  {
   "cell_type": "markdown",
   "id": "2d9fd688",
   "metadata": {},
   "source": [
    "### Packages"
   ]
  },
  {
   "cell_type": "code",
   "execution_count": 1,
   "id": "05749ad2",
   "metadata": {},
   "outputs": [],
   "source": [
    "import numpy as np\n",
    "import pandas as pd\n",
    "import matplotlib.pyplot as plt\n",
    "%matplotlib inline"
   ]
  },
  {
   "cell_type": "markdown",
   "id": "583f1916",
   "metadata": {},
   "source": [
    "### Initialisation and Inputs"
   ]
  },
  {
   "cell_type": "code",
   "execution_count": 22,
   "id": "a57a7d8c",
   "metadata": {},
   "outputs": [],
   "source": [
    "# Define a set of inputs\n",
    "Tin = 120\n",
    "Ain = 0\n",
    "Aout = 1"
   ]
  },
  {
   "cell_type": "code",
   "execution_count": 23,
   "id": "399ad10d",
   "metadata": {},
   "outputs": [],
   "source": [
    "# Identify filepaths to each set of Einstein coefficients\n",
    "file_paths = ['FredFiles/MIES_QUANT.txt', \n",
    "              'FredFiles/LG_QUANT.txt']"
   ]
  },
  {
   "cell_type": "code",
   "execution_count": 24,
   "id": "7476c26d",
   "metadata": {},
   "outputs": [],
   "source": [
    "#PHYSICAL CONSTANTS\n",
    "h = 6.62607015e-34  # Planck constant in J·s\n",
    "c = 2.99792458e8  # Speed of light in m/s\n",
    "k = 1.380649e-23  # Boltzmann constant in J/K\n",
    "\n",
    "#TRANSITION CONSTANTS\n",
    "Partition = 6.30163002356721E+0000  # From Values.txt in Synthetic OH\n",
    "\n",
    "#VIBROTATIONAL CONSTANTS FOR v = 6\n",
    "Y = -9.795  \n",
    "D = 0.0018\n",
    "B = 14.349"
   ]
  },
  {
   "cell_type": "markdown",
   "id": "3c1219c8",
   "metadata": {},
   "source": [
    "### Extraction of Useful Data from Fredware"
   ]
  },
  {
   "cell_type": "code",
   "execution_count": 25,
   "id": "5a993258",
   "metadata": {},
   "outputs": [],
   "source": [
    "def read_fredquantfile(file_path):\n",
    "#The data is extracted from a Fred file, this module reads in \n",
    "#the neccessary info. The original Fred file is MIES_QUANT.INC\n",
    "#To make it readable I converted it to a text file, removed everything \n",
    "#but the OH(6-2)* transition and put a // in front of any non OH lines.\n",
    "\n",
    "    with open(file_path, \"r\") as file:\n",
    "        data = file.readlines()\n",
    "\n",
    "    # Initialize lists to store extracted information\n",
    "    wavelengths = []\n",
    "    j2_values = []\n",
    "    a_values = []\n",
    "    symbols = []\n",
    "\n",
    "    # Iterate through each line and extract required information\n",
    "    for line in data:\n",
    "    \n",
    "        if line.startswith(\"//\"): #ignore // lines\n",
    "            continue\n",
    "        \n",
    "        if line.startswith(\"  \"):\n",
    "            continue\n",
    "        \n",
    "        if 'v2' not in line:\n",
    "            continue\n",
    "            \n",
    "        wavelength = int(line.split()[0].strip(':'))\n",
    "        j2_value = float(line.split('J2:=')[1].split(';')[0].strip())\n",
    "        a_value = float(line.split('A:=')[1].split(';')[0].strip())\n",
    "        symbol = line.split(\"symbol:='\")[1].split(\"';\")[0].strip()\n",
    "    \n",
    "        wavelengths.append(wavelength)\n",
    "        j2_values.append(j2_value)\n",
    "        a_values.append(a_value)\n",
    "        symbols.append(symbol)\n",
    "\n",
    "    quant = pd.DataFrame({\n",
    "        \"Symbol\": symbols,\n",
    "        \"Wavelength\": wavelengths,\n",
    "        \"Jprime\": j2_values,\n",
    "        \"A\": a_values\n",
    "    })\n",
    "    \n",
    "    return quant"
   ]
  },
  {
   "cell_type": "code",
   "execution_count": 26,
   "id": "287a5df4",
   "metadata": {},
   "outputs": [],
   "source": [
    "def get_fprime(quant, B, D, Y):\n",
    "    \n",
    "    Fprime = []\n",
    "    Jprime = quant[\"Jprime\"]\n",
    "    \n",
    "    for i in range(len(quant)):\n",
    "            \n",
    "        if int(quant[\"Symbol\"][i][1]) == 1:\n",
    "            F_value = 100 * (B*((Jprime[i] + .5)**2 -1 - (.5 * np.sqrt(4*(Jprime[i] + .5)**2 + Y*(Y - 4)))) - D*(Jprime[i]**4))\n",
    "            Fprime.append(F_value)\n",
    "            \n",
    "        elif int(quant[\"Symbol\"][i][1]) == 2:\n",
    "            F_value = 100 * (B*((Jprime[i] + .5)**2 -1 + (.5 * np.sqrt(4*(Jprime[i] + .5)**2 + Y*(Y - 4)))) - D*(Jprime[i]**4))\n",
    "            Fprime.append(F_value)\n",
    "    \n",
    "    return Fprime"
   ]
  },
  {
   "cell_type": "code",
   "execution_count": 27,
   "id": "b86b59d7",
   "metadata": {},
   "outputs": [
    {
     "name": "stdout",
     "output_type": "stream",
     "text": [
      "[8462.3115, -4515.945960022041, 13123.523460022043, 2086.9457688893453, 20857.391731110656, 11372.50848158938, 31620.46901841062, 23362.633421346214, 45364.94407865379, 38070.39076415089, 55498.62426377961]\n",
      "          Fprime Symbol  Wavelength  Jprime    Ain   Aout\n",
      "0    8462.311500  P2(2)        8382     0.5  0.841  0.682\n",
      "1   -4515.945960  P1(2)        8399     1.5  0.529  0.434\n",
      "2   13123.523460  P2(3)        8415     1.5  0.779  0.641\n",
      "3    2086.945769  P1(3)        8430     2.5  0.644  0.534\n",
      "4   20857.391731  P2(4)        8452     2.5  0.762  0.636\n",
      "5   11372.508482  P1(4)        8465     3.5  0.690  0.579\n",
      "6   31620.469018  P2(5)        8493     3.5  0.760  0.641\n",
      "7   23362.633421  P1(5)        8505     4.5  0.717  0.608\n",
      "8   45364.944079  P2(6)        8539     4.5  0.764  0.651\n",
      "9   38070.390764  P1(6)        8548     5.5  0.736  0.629\n",
      "10  55498.624264  P1(7)        8597     6.5  0.751  0.647\n"
     ]
    }
   ],
   "source": [
    "#Read the rest of the quantum parameters from the specified files above\n",
    "quant = read_fredquantfile(file_paths[Ain])\n",
    "new_quant = read_fredquantfile(file_paths[Aout])\n",
    "\n",
    "#Make sure the column naming makes sense\n",
    "quant.rename(columns={'A': 'Ain'}, inplace=True)\n",
    "quant['Aout'] = new_quant['A']\n",
    "\n",
    "Fprimes = get_fprime(quant, B, D, Y)\n",
    "print(Fprimes)\n",
    "Fprime = pd.DataFrame (Fprimes, columns = ['Fprime'])\n",
    "\n",
    "\n",
    "#Create a new dataframe 'parameters' which stores all the necessary data for the calculation\n",
    "#The line symbol, Fprime, Wavelength, J', and the old and new Einstein coefficients\n",
    "parameters = pd.merge(Fprime, quant, left_index=True, right_index=True)\n",
    "print(parameters)"
   ]
  },
  {
   "cell_type": "markdown",
   "id": "1f2d3078",
   "metadata": {},
   "source": [
    "# Conversion calculation"
   ]
  },
  {
   "cell_type": "markdown",
   "id": "e20a9c0a",
   "metadata": {},
   "source": [
    "## Calculate the line equation to be plotted x and y values as per formulae below"
   ]
  },
  {
   "cell_type": "raw",
   "id": "0f4dc250",
   "metadata": {},
   "source": [
    "'''\n",
    "y = np.log( I / (A1 * (2 * ((2 * J2) + 1))))\n",
    "x = FJprime # The x axis of the gradient plot\n",
    "m = -(h * c)/(k * T1) # is the gradient based on T1\n",
    "c = np.log( N / QR) # is the partition term and y-intercept\n",
    "'''"
   ]
  },
  {
   "cell_type": "code",
   "execution_count": 28,
   "id": "499e5c45",
   "metadata": {},
   "outputs": [],
   "source": [
    "x = []\n",
    "y = []\n",
    "for i in range(len(parameters)):\n",
    "    x.append(parameters['Fprime'][i])\n",
    "    y.append(( (-h*c)/(k*Tin) )*x[i] + Partition)"
   ]
  },
  {
   "cell_type": "code",
   "execution_count": 29,
   "id": "75a88b6c",
   "metadata": {},
   "outputs": [
    {
     "data": {
      "text/plain": [
       "Text(0, 0.5, '$\\\\ln \\\\left( \\\\frac{I}{{A_{{in}} \\\\cdot (2(2J^\\\\prime + 1))}} \\\\right)$')"
      ]
     },
     "execution_count": 29,
     "metadata": {},
     "output_type": "execute_result"
    },
    {
     "data": {
      "image/png": "[encoded data removed]",
      "text/plain": [
       "<Figure size 720x432 with 1 Axes>"
      ]
     },
     "metadata": {
      "needs_background": "light"
     },
     "output_type": "display_data"
    }
   ],
   "source": [
    "plt.figure(figsize=(10,6))\n",
    "plt.scatter(x, y, color='orange')\n",
    "plt.title(r'$F(J^\\prime)$ vs the y-term = $\\ln \\left( \\frac{I}{{A_{{in}} \\cdot (2(2J^\\prime + 1))}} \\right)$')\n",
    "plt.xlabel(r'$F(J^\\prime)$')\n",
    "plt.ylabel(r'$\\ln \\left( \\frac{I}{{A_{{in}} \\cdot (2(2J^\\prime + 1))}} \\right)$')"
   ]
  },
  {
   "cell_type": "markdown",
   "id": "8a259eaa",
   "metadata": {},
   "source": [
    "## Add correction term"
   ]
  },
  {
   "cell_type": "code",
   "execution_count": 30,
   "id": "7addcf88",
   "metadata": {},
   "outputs": [],
   "source": [
    "y_new = []\n",
    "for i in range(len(parameters)):\n",
    "    Y = y[i] + np.log(parameters['Ain'][i] / parameters['Aout'][i]) # Add correction term\n",
    "    y_new.append(Y)"
   ]
  },
  {
   "cell_type": "markdown",
   "id": "f0e53f26",
   "metadata": {},
   "source": [
    "## Use line fitting to extract the gradient"
   ]
  },
  {
   "cell_type": "code",
   "execution_count": 31,
   "id": "d77ff193",
   "metadata": {
    "scrolled": true
   },
   "outputs": [
    {
     "name": "stdout",
     "output_type": "stream",
     "text": [
      "-0.00012077941216080253 6.498314532750794\n"
     ]
    }
   ],
   "source": [
    "# Using polyfit\n",
    "\n",
    "grad_poly, inter_poly = np.polyfit( x, y_new, 1)\n",
    "print(grad_poly, inter_poly)\n",
    "\n",
    "fitline = []\n",
    "for i in range(len(x)):\n",
    "    line = grad_poly*x[i] + inter_poly\n",
    "    fitline.append(line)"
   ]
  },
  {
   "cell_type": "code",
   "execution_count": 32,
   "id": "9d33616b",
   "metadata": {},
   "outputs": [],
   "source": [
    "# Expected trendline\n",
    "expected = []\n",
    "for i in range(len(x)):\n",
    "    expected_m = grad_poly\n",
    "    expected.append(expected_m * x[i] + inter_poly)"
   ]
  },
  {
   "cell_type": "code",
   "execution_count": 33,
   "id": "9d766740",
   "metadata": {},
   "outputs": [
    {
     "data": {
      "text/plain": [
       "<matplotlib.legend.Legend at 0x7f3765aa8c10>"
      ]
     },
     "execution_count": 33,
     "metadata": {},
     "output_type": "execute_result"
    },
    {
     "data": {
      "image/png": "[encoded data removed]",
      "text/plain": [
       "<Figure size 720x432 with 1 Axes>"
      ]
     },
     "metadata": {
      "needs_background": "light"
     },
     "output_type": "display_data"
    }
   ],
   "source": [
    "plt.figure(figsize=(10,6))\n",
    "plt.scatter(x, y_new, color='orange', label='Converted')\n",
    "plt.plot(x, fitline, color='green', label = 'Polyfit Linear Reg')\n",
    "plt.plot(x, expected, color='purple', label = 'Expectation')\n",
    "plt.plot(x,y, label='Original')\n",
    "plt.title(r'$F(J^\\prime)$ vs the y-term = $\\ln \\left( \\frac{I}{{A_{{in}} \\cdot (2(2J^\\prime + 1))}} \\right)$')\n",
    "plt.xlabel(r'$F(J^\\prime)$')\n",
    "plt.ylabel(r'$\\ln \\left( \\frac{I}{{A_{{in}} \\cdot (2(2J^\\prime + 1))}} \\right)$')\n",
    "plt.legend()"
   ]
  },
  {
   "cell_type": "markdown",
   "id": "d7554fca",
   "metadata": {},
   "source": [
    "## Calculate the temperature from the line gradient"
   ]
  },
  {
   "cell_type": "code",
   "execution_count": 34,
   "id": "caf60ba2",
   "metadata": {},
   "outputs": [
    {
     "name": "stdout",
     "output_type": "stream",
     "text": [
      "119.12434841033867\n"
     ]
    }
   ],
   "source": [
    "Tout = (-h * c) / (k * grad_poly)\n",
    "print(Tout)"
   ]
  },
  {
   "cell_type": "code",
   "execution_count": null,
   "id": "f3a15d23",
   "metadata": {},
   "outputs": [],
   "source": []
  }
 ],
 "metadata": {
  "kernelspec": {
   "display_name": "Python 3 (ipykernel)",
   "language": "python",
   "name": "python3"
  },
  "language_info": {
   "codemirror_mode": {
    "name": "ipython",
    "version": 3
   },
   "file_extension": ".py",
   "mimetype": "text/x-python",
   "name": "python",
   "nbconvert_exporter": "python",
   "pygments_lexer": "ipython3",
   "version": "3.10.6"
  }
 },
 "nbformat": 4,
 "nbformat_minor": 5
}
